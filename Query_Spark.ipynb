{
 "cells": [
  {
   "cell_type": "code",
   "execution_count": 1,
   "id": "69f3c011-2dbd-4c7b-95b4-e10aecd5396d",
   "metadata": {},
   "outputs": [
    {
     "name": "stderr",
     "output_type": "stream",
     "text": [
      "Picked up _JAVA_OPTIONS: -Djava.io.tmpdir=/data/jupyterhub/tmp\n",
      "Picked up _JAVA_OPTIONS: -Djava.io.tmpdir=/data/jupyterhub/tmp\n",
      "Setting default log level to \"WARN\".\n",
      "To adjust logging level use sc.setLogLevel(newLevel). For SparkR, use setLogLevel(newLevel).\n",
      "24/08/21 17:53:07 WARN NativeCodeLoader: Unable to load native-hadoop library for your platform... using builtin-java classes where applicable\n"
     ]
    }
   ],
   "source": [
    "from pyspark.sql import SparkSession\n",
    "\n",
    "spark = SparkSession.builder \\\n",
    "    .appName(\"MySQL to Spark\") \\\n",
    "    .config(\"spark.driver.extraClassPath\", \"mysql-connector-j-8.0.33.jar\") \\\n",
    "    .getOrCreate()\n",
    "\n",
    "url = \"jdbc:mysql://192.168.23.22:3306/bi_data_analyst\"\n",
    "properties = {\n",
    "    \"user\": \"traht\",\n",
    "    \"password\": \"qCJtXpUrhVPca9WZ5n47\",\n",
    "    \"driver\": \"com.mysql.jdbc.Driver\" \n",
    "}\n",
    "\n"
   ]
  },
  {
   "cell_type": "code",
   "execution_count": 2,
   "id": "9bf74488-5126-4e02-8f6f-eca5dda1b04b",
   "metadata": {},
   "outputs": [
    {
     "name": "stderr",
     "output_type": "stream",
     "text": [
      "Loading class `com.mysql.jdbc.Driver'. This is deprecated. The new driver class is `com.mysql.cj.jdbc.Driver'. The driver is automatically registered via the SPI and manual loading of the driver class is generally unnecessary.\n",
      "                                                                                \r"
     ]
    },
    {
     "name": "stdout",
     "output_type": "stream",
     "text": [
      "+-------------------+----------+--------+-------------+--------+------+------+-------+--------+-------+-------+\n",
      "|               date|total_user|new_user|continue_user|pageview|  site|  type|session|duration|to_post|to_cate|\n",
      "+-------------------+----------+--------+-------------+--------+------+------+-------+--------+-------+-------+\n",
      "|2021-11-05 00:00:00|    230110|  116594|        39696|  350631|  genk|mobile| 245594|      63|   NULL|   NULL|\n",
      "|2021-11-05 00:00:00|     47741|   13261|        16396|  107500|  genk|    pc|  98102|     137|   NULL|   NULL|\n",
      "|2021-11-02 00:00:00|     44136|   12024|        16437|  105282|  genk|    pc|  91768|     146|   NULL|   NULL|\n",
      "|2021-11-03 00:00:00|    322465|  177895|        46426|  448031|  genk|mobile| 336276|      56|   NULL|   NULL|\n",
      "|2021-11-02 00:00:00|    159782|   86123|        29435|  263225|  genk|mobile| 163083|      73|   NULL|   NULL|\n",
      "|2021-11-03 00:00:00|     55461|   16746|        17071|  115814|  genk|    pc| 107415|     127|   NULL|   NULL|\n",
      "|2021-11-06 00:00:00|    342113|  103535|       185619| 1797620|kenh14|    pc| 431114|     334|   NULL|   NULL|\n",
      "|2021-11-06 00:00:00|   2250134| 1302489|       813907| 7118697|kenh14|mobile|2734247|     192|   NULL|   NULL|\n",
      "|2021-11-06 00:00:00|     38660|   11963|        12964|   83875|  genk|    pc|  75570|     129|   NULL|   NULL|\n",
      "|2021-11-06 00:00:00|    220347|  112746|        39130|  342555|  genk|mobile| 232029|      68|   NULL|   NULL|\n",
      "|2021-11-06 00:00:00|    124413|   37825|        65630|  601067| cafef|    pc| 191322|     289|   NULL|   NULL|\n",
      "|2021-11-06 00:00:00|    965099|  469030|       235621| 1847667| cafef|mobile|1084720|     104|   NULL|   NULL|\n",
      "|2021-11-05 00:00:00|   2369058| 1329054|       866094| 7554314|kenh14|mobile|2899336|     198|   NULL|   NULL|\n",
      "|2021-11-05 00:00:00|    437211|  121849|       253581| 2601675|kenh14|    pc| 600880|     373|   NULL|   NULL|\n",
      "|2021-11-02 00:00:00|    434421|  122181|       250536| 2534503|kenh14|    pc| 605336|     365|   NULL|   NULL|\n",
      "|2021-11-03 00:00:00|   2426164| 1372025|       881329| 7615638|kenh14|mobile|2964230|     193|   NULL|   NULL|\n",
      "|2021-11-02 00:00:00|   2298129| 1304058|       836913| 7174719|kenh14|mobile|2790873|     195|   NULL|   NULL|\n",
      "|2021-11-03 00:00:00|    438261|  122303|       251725| 2564427|kenh14|    pc| 608951|     359|   NULL|   NULL|\n",
      "|2021-11-04 00:00:00|   2515297| 1422038|       876996| 7572191|kenh14|mobile|3015742|     186|   NULL|   NULL|\n",
      "|2021-11-04 00:00:00|    442957|  124625|       252529| 2564809|kenh14|    pc| 607618|     358|   NULL|   NULL|\n",
      "+-------------------+----------+--------+-------------+--------+------+------+-------+--------+-------+-------+\n",
      "only showing top 20 rows\n",
      "\n"
     ]
    }
   ],
   "source": [
    "query = \"\"\"(SELECT \n",
    "            date, total_user, new_user, continue_user, pageview, site, type, session, duration, to_post, to_cate \n",
    "            FROM website_overview) \n",
    "            AS subquery\"\"\"\n",
    "df_overview = spark.read.jdbc(url=url, table=query, properties=properties)\n",
    "\n",
    "df_overview.show()\n"
   ]
  },
  {
   "cell_type": "code",
   "execution_count": 4,
   "id": "ef02d47d-9fc1-4351-83e0-bd23b0353eae",
   "metadata": {},
   "outputs": [
    {
     "name": "stderr",
     "output_type": "stream",
     "text": [
      "[Stage 1:>                                                          (0 + 1) / 1]\r"
     ]
    },
    {
     "name": "stdout",
     "output_type": "stream",
     "text": [
      "+-------------------+-------+-------------------+---------------+------------------+----------------------+---------------------+------------+-------------+\n",
      "|               date|   site|  avg(new_user_pct)|avg(total_user)|avg(duration_mins)|avg(continue_user_pct)|avg(page_per_session)|avg(session)|avg(pageview)|\n",
      "+-------------------+-------+-------------------+---------------+------------------+----------------------+---------------------+------------+-------------+\n",
      "|2021-09-30 00:00:00|afamily|0.33297254795519104|       383121.0| 3.408333333333333|    0.3765062180160217|   2.7522405882498404|    484888.0|    1087940.0|\n",
      "|2021-09-30 00:00:00|cafebiz|0.35476807594067605|       198767.0|              2.15|    0.3113360167347009|    1.876944933273877|    229676.0|     353648.5|\n",
      "|2021-10-01 00:00:00|afamily| 0.3448233800960743|       339037.0|3.5166666666666666|   0.37917665150928115|     2.82892906029468|    436593.0|    1018885.5|\n",
      "|2021-10-01 00:00:00|cafebiz| 0.3327040294301497|       175062.0|2.2333333333333334|    0.3290496748793329|   1.9639017865450852|    201503.0|     321780.0|\n",
      "|2021-10-02 00:00:00|afamily| 0.3761664655997331|       301865.5|3.2916666666666665|   0.35491523411178516|   2.7432993245748247|    385212.0|     912817.5|\n",
      "|2021-10-02 00:00:00|cafebiz| 0.3228115600612447|       174698.5| 2.166666666666667|    0.3264543794180816|   1.9491503573786322|    198769.0|     306614.5|\n",
      "|2021-10-03 00:00:00|cafebiz|0.34579473000429817|       179090.5|               2.2|    0.3225642469644562|   1.9535616280086567|    206026.0|     320110.0|\n",
      "|2021-10-03 00:00:00|afamily| 0.4113735726915756|       292895.5|2.9416666666666664|   0.34716719794705586|   2.6209525867804127|    375305.5|     870475.5|\n",
      "|2021-10-04 00:00:00|cafebiz| 0.3388017396396094|       250210.0| 2.216666666666667|    0.3184485169697988|   1.9005072219854273|    286986.5|     441885.0|\n",
      "|2021-10-04 00:00:00|afamily| 0.3840130168753979|       319913.0|               3.5|    0.3661450070110347|   2.8723308752576386|    394441.5|     980520.5|\n",
      "|2021-10-05 00:00:00|afamily| 0.3901131564312208|       335010.5| 3.433333333333333|    0.3453225171442531|    2.779592822395009|    415037.0|     968108.5|\n",
      "|2021-10-05 00:00:00|cafebiz|0.36065641727503245|       219612.0|2.2416666666666667|   0.29925573036361064|   1.8422337836726554|    249427.0|     379138.5|\n",
      "|2021-10-06 00:00:00|afamily|0.35132548096715627|       314140.5|3.7583333333333337|    0.3762954143992283|    2.948372440793417|    398734.0|     942330.0|\n",
      "|2021-10-06 00:00:00|cafebiz|0.34461307422959436|       183004.5| 2.333333333333333|    0.3106417642111056|   1.8769798981186236|    208260.5|     323837.5|\n",
      "|2021-10-07 00:00:00|cafebiz| 0.3199081710378183|       220575.5|              2.35|    0.3069381461483162|    1.867853535206802|    251078.5|     373579.0|\n",
      "|2021-10-07 00:00:00|afamily|0.37756870314165625|       309372.0|3.7666666666666666|   0.37817614370054886|   2.9881278898803942|    398130.0|     967363.5|\n",
      "|2021-10-08 00:00:00|cafebiz|0.34475541159979073|       178832.0|              2.45|    0.3065710481104021|   1.8864701992600477|    205405.5|     315150.0|\n",
      "|2021-10-08 00:00:00|afamily| 0.3554219206679293|       290098.0|               3.8|    0.3881920429934962|   2.9572885010578025|    376157.0|     929556.5|\n",
      "|2021-10-09 00:00:00|afamily| 0.3784477850605542|       271582.0|3.4916666666666663|   0.36662167079858876|    2.893771823137887|    345676.5|     845991.0|\n",
      "|2021-10-09 00:00:00|cafebiz|  0.367403471568635|       142333.0| 2.441666666666667|   0.30662509448294384|   1.8968747021820433|    163899.0|     259119.0|\n",
      "+-------------------+-------+-------------------+---------------+------------------+----------------------+---------------------+------------+-------------+\n",
      "only showing top 20 rows\n",
      "\n"
     ]
    },
    {
     "name": "stderr",
     "output_type": "stream",
     "text": [
      "                                                                                \r"
     ]
    }
   ],
   "source": [
    "#Overview theo ngày\n",
    "from pyspark.sql.functions import *\n",
    "\n",
    "df_overview = df_overview.withColumn('new_user_pct', col('new_user') / col('total_user'))\\\n",
    "                        .withColumn('continue_user_pct', col('continue_user') / col('total_user'))\\\n",
    "                        .withColumn('duration_mins', col('duration') / 60)\\\n",
    "                        .withColumn('page_per_session', col('pageview') / col('session'))\n",
    "\n",
    "result_df = df_overview.groupBy('date', 'site').agg(\n",
    "    {'total_user': 'avg',\n",
    "     'new_user_pct': 'avg',\n",
    "     'continue_user_pct': 'avg',\n",
    "     'duration_mins': 'avg',\n",
    "     'page_per_session': 'avg',\n",
    "     'session': 'avg',\n",
    "     'pageview': 'avg'})\n",
    "\n",
    "# Hiển thị kết quả\n",
    "result_df = result_df.orderBy('date')\n",
    "result_df.show()\n"
   ]
  },
  {
   "cell_type": "code",
   "execution_count": 5,
   "id": "7e025aa2-f0c2-4eb6-a882-f712b49cc39a",
   "metadata": {},
   "outputs": [
    {
     "name": "stdout",
     "output_type": "stream",
     "text": [
      "+-------------------+------------+------------+\n",
      "|               date|sum(to_cate)|sum(to_post)|\n",
      "+-------------------+------------+------------+\n",
      "|2021-11-07 00:00:00|      211793|     2633487|\n",
      "|2021-11-08 00:00:00|      345417|     3134895|\n",
      "|2021-11-09 00:00:00|      327180|     3787850|\n",
      "|2021-11-10 00:00:00|      319941|     3652674|\n",
      "|2021-11-11 00:00:00|      315802|     2946177|\n",
      "|2021-11-12 00:00:00|      316640|     3127124|\n",
      "|2021-11-13 00:00:00|      213333|     2602316|\n",
      "|2021-11-14 00:00:00|      205537|     2690300|\n",
      "|2021-11-15 00:00:00|      332834|     3214854|\n",
      "|2021-11-16 00:00:00|      324891|     3240776|\n",
      "|2021-11-17 00:00:00|      308997|     2906340|\n",
      "|2021-11-18 00:00:00|      337807|     3177401|\n",
      "|2021-11-19 00:00:00|      326180|     2904908|\n",
      "|2021-11-20 00:00:00|      215874|     2541697|\n",
      "|2021-11-21 00:00:00|      200250|     2511205|\n",
      "|2021-11-22 00:00:00|      319545|     3305877|\n",
      "|2021-11-23 00:00:00|      311693|     3515077|\n",
      "|2021-11-24 00:00:00|      320073|     3210099|\n",
      "|2021-11-25 00:00:00|      303417|     3215353|\n",
      "|2021-11-26 00:00:00|      284561|     2926044|\n",
      "+-------------------+------------+------------+\n",
      "only showing top 20 rows\n",
      "\n"
     ]
    }
   ],
   "source": [
    "#Hành động của user sau khi vào home\n",
    "\n",
    "from pyspark.sql.functions import *\n",
    "\n",
    "# Lọc dữ liệu để giữ lại các hàng mà có giá trị không phải NaN trong cột 'to_post' hoặc 'to_cate'\n",
    "filtered_df = df_overview.filter(col('to_post').isNotNull() | col('to_cate').isNotNull())\n",
    "\n",
    "# Nhóm dữ liệu theo cột 'date' và tính tổng các giá trị của cột 'to_post' và 'to_cate'\n",
    "grouped_df = filtered_df.groupBy('date').agg(\n",
    "    {'to_post':'sum',\n",
    "    'to_cate':'sum'})\n",
    "\n",
    "grouped_df_sorted = grouped_df.orderBy('date')\n",
    "\n",
    "grouped_df_sorted.show()\n",
    "\n"
   ]
  },
  {
   "cell_type": "code",
   "execution_count": 6,
   "id": "f0d326eb-9c51-43ac-9624-cc50a5db5a25",
   "metadata": {},
   "outputs": [
    {
     "name": "stderr",
     "output_type": "stream",
     "text": [
      "[Stage 7:>                                                          (0 + 1) / 1]\r"
     ]
    },
    {
     "name": "stdout",
     "output_type": "stream",
     "text": [
      "+-------+-------------------+-----------+----------+------------------+------------------+------------------+------------------+\n",
      "|week   |date               |date_range |start_date|duration_mins     |session           |page_per_session  |pageview          |\n",
      "+-------+-------------------+-----------+----------+------------------+------------------+------------------+------------------+\n",
      "|39/2021|2021-10-01 00:00:00|25/09-01/10|2021-09-25|2.8749999999999996|319048.0          |2.3964154234198825|670332.75         |\n",
      "|39/2021|2021-10-02 00:00:00|25/09-01/10|2021-09-25|2.729166666666667 |291990.5          |2.3462248409767286|609716.0          |\n",
      "|39/2021|2021-09-30 00:00:00|25/09-01/10|2021-09-25|2.779166666666667 |357282.0          |2.3145927607618586|720794.25         |\n",
      "|39/2021|2021-10-03 00:00:00|02/10-08/10|2021-10-02|2.5708333333333333|290665.75         |2.287257107394535 |595292.75         |\n",
      "|40/2021|2021-10-07 00:00:00|02/10-08/10|2021-10-02|3.0583333333333336|324604.25         |2.4279907125435978|670471.25         |\n",
      "|40/2021|2021-10-09 00:00:00|02/10-08/10|2021-10-02|2.966666666666667 |254787.75         |2.3953232626599648|552555.0          |\n",
      "|40/2021|2021-10-06 00:00:00|02/10-08/10|2021-10-02|3.0458333333333334|303497.25         |2.41267616945602  |633083.75         |\n",
      "|40/2021|2021-10-05 00:00:00|02/10-08/10|2021-10-02|2.8375            |332232.0          |2.310913303033832 |673623.5          |\n",
      "|40/2021|2021-10-04 00:00:00|02/10-08/10|2021-10-02|2.8583333333333334|340714.0          |2.386419048621533 |711202.75         |\n",
      "|40/2021|2021-10-08 00:00:00|02/10-08/10|2021-10-02|3.125             |290781.25         |2.421879350158925 |622353.25         |\n",
      "|41/2021|2021-10-15 00:00:00|09/10-15/10|2021-10-09|2.661111111111111 |265335.3333333333 |2.041840285236811 |511279.6666666667 |\n",
      "|41/2021|2021-10-12 00:00:00|09/10-15/10|2021-10-09|2.7416666666666667|235517.83333333334|2.1013634453098406|476885.0          |\n",
      "|40/2021|2021-10-10 00:00:00|09/10-15/10|2021-10-09|2.7458333333333336|272192.25         |2.306984107648468 |582025.25         |\n",
      "|41/2021|2021-10-16 00:00:00|09/10-15/10|2021-10-09|2.438888888888889 |245727.66666666666|1.9800298793168791|469496.3333333333 |\n",
      "|41/2021|2021-10-14 00:00:00|09/10-15/10|2021-10-09|2.680555555555556 |282744.1666666667 |2.0733365106798183|545456.8333333334 |\n",
      "|41/2021|2021-10-11 00:00:00|09/10-15/10|2021-10-09|3.1333333333333333|290208.25         |2.4847958915913693|638656.0          |\n",
      "|41/2021|2021-10-13 00:00:00|09/10-15/10|2021-10-09|2.722222222222222 |237050.0          |2.0677150302949188|470042.0          |\n",
      "|42/2021|2021-10-18 00:00:00|16/10-22/10|2021-10-16|3.1816666666666666|687492.5          |2.334110412874497 |1620904.4         |\n",
      "|41/2021|2021-10-17 00:00:00|16/10-22/10|2021-10-16|2.1444444444444444|260988.83333333334|1.8556718138857906|486217.0          |\n",
      "|42/2021|2021-10-21 00:00:00|16/10-22/10|2021-10-16|3.3402777777777772|715495.1666666666 |2.3718144977510023|1671230.5833333333|\n",
      "+-------+-------------------+-----------+----------+------------------+------------------+------------------+------------------+\n",
      "only showing top 20 rows\n",
      "\n"
     ]
    },
    {
     "name": "stderr",
     "output_type": "stream",
     "text": [
      "                                                                                \r"
     ]
    }
   ],
   "source": [
    "#[Kết quả không hợp lý*******]\n",
    "\n",
    "from pyspark.sql.functions import col, expr, date_format, lit, concat, format_number, year, weekofyear\n",
    "\n",
    "# Chuyển đổi cột 'date' thành kiểu timestamp\n",
    "df_overview = df_overview.withColumn(\"date\", col(\"date\").cast(\"timestamp\"))\n",
    "\n",
    "# Tạo cột 'week' theo định dạng tuần/năm, không có phần thập phân\n",
    "df_overview = df_overview.withColumn(\"week\", \n",
    "    concat(\n",
    "        format_number(weekofyear(col(\"date\")), 0),  # Đảm bảo không có phần thập phân\n",
    "        lit('/'),\n",
    "        year(col(\"date\"))\n",
    "    )\n",
    ")\n",
    "\n",
    "# Tính toán 'start_date' và 'end_date'\n",
    "df_overview = df_overview.withColumn(\"start_date\", expr(\"date_sub(date, dayofweek(date))\"))\n",
    "df_overview = df_overview.withColumn(\"end_date\", expr(\"date_add(start_date, 6)\"))\n",
    "\n",
    "# Tạo cột 'date_range'\n",
    "df_overview = df_overview.withColumn(\"date_range\", \n",
    "    concat(\n",
    "        date_format(col(\"start_date\"), 'dd/MM'),\n",
    "        lit('-'),\n",
    "        date_format(col(\"end_date\"), 'dd/MM')\n",
    "    )\n",
    ")\n",
    "\n",
    "# Tính toán 'duration_mins' và 'page_per_session'\n",
    "df_overview = df_overview.withColumn(\"duration_mins\", col(\"duration\") / 60)\n",
    "df_overview = df_overview.withColumn(\"page_per_session\", \n",
    "    when(col(\"session\") > 0, col(\"pageview\") / col(\"session\")).otherwise(lit(None))\n",
    ")\n",
    "\n",
    "# Nhóm dữ liệu theo các cột và tính trung bình\n",
    "group_df = df_overview.groupBy('week', 'date','date_range', 'start_date').agg(\n",
    "    {'session': 'avg',\n",
    "     'pageview': 'avg',\n",
    "     'duration_mins': 'avg',\n",
    "     'page_per_session': 'avg'}\n",
    ")\n",
    "\n",
    "# Đổi tên các cột\n",
    "group_df = group_df.withColumnRenamed('avg(session)', 'session') \\\n",
    "                   .withColumnRenamed('avg(pageview)', 'pageview') \\\n",
    "                   .withColumnRenamed('avg(duration_mins)', 'duration_mins') \\\n",
    "                   .withColumnRenamed('avg(page_per_session)', 'page_per_session')\n",
    "\n",
    "# Sắp xếp theo cột 'start_date'\n",
    "group_df_sorted = group_df.orderBy('start_date')\n",
    "\n",
    "# Hiển thị kết quả\n",
    "group_df_sorted.show(truncate=False)\n"
   ]
  },
  {
   "cell_type": "code",
   "execution_count": 7,
   "id": "6b2b290d-ea67-4777-b9f5-1b8efbce556f",
   "metadata": {},
   "outputs": [
    {
     "name": "stderr",
     "output_type": "stream",
     "text": [
      "[Stage 10:>                                                         (0 + 1) / 1]\r"
     ]
    },
    {
     "name": "stdout",
     "output_type": "stream",
     "text": [
      "+------------------+----------+--------------------+--------------------+-------------------+------------+------------+----------+\n",
      "|            newsid|sourceNews|                 url|               title|       publish_date|publish_hour|publish_week|  category|\n",
      "+------------------+----------+--------------------+--------------------+-------------------+------------+------------+----------+\n",
      "|176231219171932713|   cafebiz|https://cafebiz.v...|Lười vứt rác, đam...|2024-04-14 00:00:00|          15|     15/2024|      Sống|\n",
      "|176231222230803748|   cafebiz|https://cafebiz.v...|Hoa khôi đại học ...|2024-02-23 00:00:00|          16|     08/2024|      Sống|\n",
      "|176231228214247919|   cafebiz|https://cafebiz.v...|Nuôi con giàu và ...|2024-03-31 00:00:00|          15|     13/2024|      Sống|\n",
      "|176240219145418717|   cafebiz|https://cafebiz.v...|Đàn ông sau 35 tu...|2024-03-30 00:00:00|          16|     13/2024|      Sống|\n",
      "|176240219152001203|   cafebiz|https://cafebiz.v...|35 tuổi là một cộ...|2024-03-19 00:00:00|          15|     12/2024|      Sống|\n",
      "| 17624022116384174|   cafebiz|https://cafebiz.v...|Đàn ông trên 35 t...|2024-02-26 00:00:00|          14|     09/2024|      Sống|\n",
      "|176240222102314287|   cafebiz|https://cafebiz.v...|Giỏi chiếm dụng v...|2024-03-03 00:00:00|           8|     09/2024|Kinh doanh|\n",
      "|176240222195528519|   cafebiz|https://cafebiz.v...|VinFast mang về 1...|2024-02-29 00:00:00|          21|     09/2024|Kinh doanh|\n",
      "|176240223065807506|   cafebiz|https://cafebiz.v...|Bà Nguyễn Phương ...|2024-02-23 00:00:00|           6|     08/2024|    Xã hội|\n",
      "|176240223065947641|   cafebiz|https://cafebiz.v...|Khởi tố nữ chủ hụ...|2024-02-23 00:00:00|           7|     08/2024|    Xã hội|\n",
      "|176240223070028419|   cafebiz|https://cafebiz.v...|Vé máy bay 'căng ...|2024-02-23 00:00:00|           7|     08/2024|    Xã hội|\n",
      "|176240223070139367|   cafebiz|https://cafebiz.v...|\"Xử lý vi phạm nồ...|2024-02-23 00:00:00|           7|     08/2024|    Xã hội|\n",
      "|176240223070640817|   cafebiz|https://cafebiz.v...|Thanh tra nhiều d...|2024-02-23 00:00:00|           7|     08/2024|Kinh doanh|\n",
      "|176240223070736478|   cafebiz|https://cafebiz.v...|Cuộc sống tiết ki...|2024-02-23 00:00:00|           7|     08/2024|      Sống|\n",
      "| 17624022307082865|   cafebiz|https://cafebiz.v...|Dù nghèo đến đâu ...|2024-02-23 00:00:00|           7|     08/2024|      Sống|\n",
      "|176240223070911262|   cafebiz|https://cafebiz.v...|Dân văn phòng min...|2024-02-23 00:00:00|           8|     08/2024|      Sống|\n",
      "|176240223071022831|   cafebiz|https://cafebiz.v...|Có nên cho con cá...|2024-02-23 00:00:00|           8|     08/2024|      Sống|\n",
      "|176240223071148273|   cafebiz|https://cafebiz.v...|Sau 70 tuổi, đi b...|2024-02-23 00:00:00|           8|     08/2024|      Sống|\n",
      "|176240223071241684|   cafebiz|https://cafebiz.v...|Người sinh ngày Â...|2024-02-23 00:00:00|           8|     08/2024|      Sống|\n",
      "|176240223072700393|   cafebiz|https://cafebiz.v...|Bầu Đức chia sẻ m...|2024-02-23 00:00:00|           7|     08/2024|Kinh doanh|\n",
      "+------------------+----------+--------------------+--------------------+-------------------+------------+------------+----------+\n",
      "only showing top 20 rows\n",
      "\n"
     ]
    },
    {
     "name": "stderr",
     "output_type": "stream",
     "text": [
      "                                                                                \r"
     ]
    }
   ],
   "source": [
    "#Import website_news_info\n",
    "\n",
    "query = \"\"\"(SELECT \n",
    "            newsid,sourceNews, url, title, publish_date,publish_hour,publish_week,category\n",
    "            FROM  website_news_info) \n",
    "            AS subquery\"\"\"\n",
    "df_info = spark.read.jdbc(url=url, table=query, properties=properties)\n",
    "\n",
    "df_info.show()\n"
   ]
  },
  {
   "cell_type": "code",
   "execution_count": 8,
   "id": "3d76c9de-36be-40ff-b563-b5ec1db358f2",
   "metadata": {},
   "outputs": [
    {
     "name": "stderr",
     "output_type": "stream",
     "text": [
      "[Stage 11:>                                                         (0 + 1) / 1]\r"
     ]
    },
    {
     "name": "stdout",
     "output_type": "stream",
     "text": [
      "+-------------------+------+\n",
      "|       publish_date|newsid|\n",
      "+-------------------+------+\n",
      "|2024-02-23 00:00:00|  1244|\n",
      "|2024-02-24 00:00:00|  1036|\n",
      "|2024-02-25 00:00:00|   977|\n",
      "|2024-02-26 00:00:00|  1293|\n",
      "|2024-02-27 00:00:00|  1335|\n",
      "|2024-02-28 00:00:00|  1332|\n",
      "|2024-02-29 00:00:00|  1315|\n",
      "|2024-03-01 00:00:00|  1303|\n",
      "|2024-03-02 00:00:00|  1039|\n",
      "|2024-03-03 00:00:00|   973|\n",
      "|2024-03-04 00:00:00|  1275|\n",
      "|2024-03-05 00:00:00|  1345|\n",
      "|2024-03-06 00:00:00|  1388|\n",
      "|2024-03-07 00:00:00|  1327|\n",
      "|2024-03-08 00:00:00|  1311|\n",
      "|2024-03-09 00:00:00|  1091|\n",
      "|2024-03-10 00:00:00|   972|\n",
      "|2024-03-11 00:00:00|  1333|\n",
      "|2024-03-12 00:00:00|  1292|\n",
      "|2024-03-13 00:00:00|  1324|\n",
      "+-------------------+------+\n",
      "only showing top 20 rows\n",
      "\n"
     ]
    },
    {
     "name": "stderr",
     "output_type": "stream",
     "text": [
      "                                                                                \r"
     ]
    }
   ],
   "source": [
    "#Sản lượng post theo ngày\n",
    "\n",
    "from pyspark.sql.functions import countDistinct\n",
    "group_df=df_info.groupBy('publish_date').agg(countDistinct('newsid').alias('newsid')).orderBy('publish_date')\n",
    "group_df.show()\n"
   ]
  },
  {
   "cell_type": "code",
   "execution_count": 9,
   "id": "8231c0af-75ac-43b6-ac73-5eff25abf53f",
   "metadata": {},
   "outputs": [],
   "source": [
    "# #Sản lượng toàn kênh theo tuần\n",
    "\n",
    "# from pyspark.sql.functions import col, date_sub, date_add, countDistinct, dayofweek, expr\n",
    "\n",
    "# df_info = df_info.withColumn(\"publish_date\", col(\"publish_date\").cast(\"timestamp\"))\n",
    "\n",
    "# # Tính ngày đầu tuần (start_date)\n",
    "# df_info = df_info.withColumn(\n",
    "#     \"start_date\",\n",
    "#     date_sub(col(\"publish_date\"), dayofweek(col(\"publish_date\")) - 1)\n",
    "# )\n",
    "\n",
    "# # Tính ngày cuối tuần (end_date) bằng cách cộng thêm 6 ngày vào start_date\n",
    "# df_info = df_info.withColumn(\n",
    "#     \"end_date\",\n",
    "#     date_add(col(\"start_date\"), 6)\n",
    "# )\n",
    "\n",
    "# # Tính tổng số unique newsid theo tuần\n",
    "# group_df = df_info.groupBy('publish_week', 'start_date', 'end_date').agg(\n",
    "#     countDistinct('newsid').alias('newsid')\n",
    "# ).orderBy(['start_date', 'newsid'], ascending=[True, False])\n",
    "\n",
    "# group_df.show(truncate=False)\n",
    "\n"
   ]
  },
  {
   "cell_type": "code",
   "execution_count": 10,
   "id": "ed28574a-a002-4001-947c-0b981e682da7",
   "metadata": {},
   "outputs": [
    {
     "name": "stderr",
     "output_type": "stream",
     "text": [
      "[Stage 19:>                                                         (0 + 6) / 6]\r"
     ]
    },
    {
     "name": "stdout",
     "output_type": "stream",
     "text": [
      "+-------------------+--------------------+------+\n",
      "|       publish_date|            category|newsid|\n",
      "+-------------------+--------------------+------+\n",
      "|2024-02-23 00:00:00|                Sống|   125|\n",
      "|2024-02-23 00:00:00|              Xã hội|   101|\n",
      "|2024-02-23 00:00:00|          Kinh doanh|    84|\n",
      "|2024-02-23 00:00:00|            Đời sống|    50|\n",
      "|2024-02-23 00:00:00|            Giải trí|    46|\n",
      "|2024-02-23 00:00:00|           Lifestyle|    46|\n",
      "|2024-02-23 00:00:00|   Tài chính quốc tế|    37|\n",
      "|2024-02-23 00:00:00|       Nhịp sống mới|    35|\n",
      "|2024-02-23 00:00:00|    Thời sự - Xã hội|    34|\n",
      "|2024-02-23 00:00:00|                Star|    34|\n",
      "|2024-02-23 00:00:00|            Thể thao|    33|\n",
      "|2024-02-23 00:00:00|            Sức khỏe|    30|\n",
      "|2024-02-23 00:00:00|             Quốc tế|    30|\n",
      "|2024-02-23 00:00:00|          Thị trường|    28|\n",
      "|2024-02-23 00:00:00|           Sống khỏe|    22|\n",
      "|2024-02-23 00:00:00|               Sport|    21|\n",
      "|2024-02-23 00:00:00|Kinh tế vĩ mô - Đ...|    21|\n",
      "|2024-02-23 00:00:00|        Bất động sản|    21|\n",
      "|2024-02-23 00:00:00|          Hậu trường|    21|\n",
      "|2024-02-23 00:00:00|        Tri thức mới|    20|\n",
      "+-------------------+--------------------+------+\n",
      "only showing top 20 rows\n",
      "\n"
     ]
    },
    {
     "name": "stderr",
     "output_type": "stream",
     "text": [
      "                                                                                \r"
     ]
    }
   ],
   "source": [
    "#Lượng bài viết suất bản theo chuyên mục\n",
    "\n",
    "from pyspark.sql.functions import *\n",
    "group_df=df_info.groupBy('publish_date','category').agg(countDistinct('newsid').alias('newsid')).orderBy(['publish_date','newsid'],ascending=[True,False])\n",
    "group_df.show()"
   ]
  },
  {
   "cell_type": "code",
   "execution_count": 11,
   "id": "f44ba3d7-802e-453c-8daf-18046ddc2f89",
   "metadata": {},
   "outputs": [
    {
     "name": "stderr",
     "output_type": "stream",
     "text": [
      "[Stage 23:>                                                         (0 + 1) / 1]\r"
     ]
    },
    {
     "name": "stdout",
     "output_type": "stream",
     "text": [
      "+-------------------+----------+------------+------+----+------+----------+\n",
      "|               date|     refer|landing_page|  type|site|access|new_access|\n",
      "+-------------------+----------+------------+------+----+------+----------+\n",
      "|2022-07-13 00:00:00|   statics|      detail|    pc|genk|     1|      NULL|\n",
      "|2022-07-13 00:00:00|  helo-app|    category|mobile|genk|    17|        16|\n",
      "|2022-07-13 00:00:00|    google|        home|mobile|genk|   763|       396|\n",
      "|2022-07-13 00:00:00|      genk|        home|mobile|genk|   335|       138|\n",
      "|2022-07-13 00:00:00|     adela|      detail|    pc|genk|     2|      NULL|\n",
      "|2022-07-13 00:00:00|     touch|    category|mobile|genk|    96|        29|\n",
      "|2022-07-13 00:00:00|     touch|      detail|mobile|genk|    74|        56|\n",
      "|2022-07-13 00:00:00|     touch|      detail|    pc|genk|     5|         3|\n",
      "|2022-07-13 00:00:00|     laban|        home|mobile|genk|    10|         3|\n",
      "|2022-07-13 00:00:00|      bing|    category|mobile|genk|     3|         3|\n",
      "|2022-07-13 00:00:00|      f247|    category|mobile|genk|     1|      NULL|\n",
      "|2022-07-13 00:00:00|    ahrefs|      detail|    pc|genk|     1|      NULL|\n",
      "|2022-07-13 00:00:00|brandwatch|      detail|    pc|genk|     1|      NULL|\n",
      "|2022-07-13 00:00:00| workplace|      detail|    pc|genk|     3|      NULL|\n",
      "|2022-07-13 00:00:00|   linkhay|      detail|    pc|genk|   247|        33|\n",
      "|2022-07-13 00:00:00|    google|        home|    pc|genk|   764|       323|\n",
      "|2022-07-13 00:00:00|    tiktok|    category|mobile|genk|     7|         6|\n",
      "|2022-07-13 00:00:00| pinterest|    category|mobile|genk|     1|         1|\n",
      "|2022-07-13 00:00:00|   cafebiz|      detail|    pc|genk|     1|         1|\n",
      "|2022-07-13 00:00:00|    yandex|      detail|    pc|genk|     2|         2|\n",
      "+-------------------+----------+------------+------+----+------+----------+\n",
      "only showing top 20 rows\n",
      "\n"
     ]
    },
    {
     "name": "stderr",
     "output_type": "stream",
     "text": [
      "                                                                                \r"
     ]
    }
   ],
   "source": [
    "#Import website_news_info\n",
    "\n",
    "query = \"\"\"(SELECT \n",
    "            date, refer, landing_page, type, site, access, new_access\n",
    "            FROM  website_traffic_source) \n",
    "            AS subquery\"\"\"\n",
    "df_source = spark.read.jdbc(url=url, table=query, properties=properties)\n",
    "\n",
    "df_source.show()\n"
   ]
  },
  {
   "cell_type": "code",
   "execution_count": 12,
   "id": "f3f55368-8964-4855-98b8-1c5321dc6bda",
   "metadata": {},
   "outputs": [
    {
     "name": "stderr",
     "output_type": "stream",
     "text": [
      "[Stage 24:==========================================================(1 + 0) / 1]\r"
     ]
    },
    {
     "name": "stdout",
     "output_type": "stream",
     "text": [
      "+-------------------+------------+------------+\n",
      "|               date|landing_page|total_access|\n",
      "+-------------------+------------+------------+\n",
      "|2022-07-13 00:00:00|      detail|     1652375|\n",
      "|2022-07-13 00:00:00|        home|      922437|\n",
      "|2022-07-13 00:00:00|    category|      492154|\n",
      "|2022-07-13 00:00:00|         tag|       18909|\n",
      "|2022-07-14 00:00:00|      detail|     1796233|\n",
      "|2022-07-14 00:00:00|        home|      902007|\n",
      "|2022-07-14 00:00:00|    category|      518287|\n",
      "|2022-07-14 00:00:00|         tag|       18940|\n",
      "|2022-07-15 00:00:00|      detail|     1797836|\n",
      "|2022-07-15 00:00:00|        home|      907339|\n",
      "|2022-07-15 00:00:00|    category|      478676|\n",
      "|2022-07-15 00:00:00|         tag|       19268|\n",
      "|2022-07-16 00:00:00|      detail|     1691417|\n",
      "|2022-07-16 00:00:00|        home|      804443|\n",
      "|2022-07-16 00:00:00|    category|      408097|\n",
      "|2022-07-16 00:00:00|         tag|       17105|\n",
      "|2022-07-17 00:00:00|      detail|     1635323|\n",
      "|2022-07-17 00:00:00|        home|      698313|\n",
      "|2022-07-17 00:00:00|    category|      443161|\n",
      "|2022-07-17 00:00:00|         tag|       16105|\n",
      "+-------------------+------------+------------+\n",
      "only showing top 20 rows\n",
      "\n"
     ]
    },
    {
     "name": "stderr",
     "output_type": "stream",
     "text": [
      "                                                                                \r"
     ]
    }
   ],
   "source": [
    "#Lượng truy cập theo landingpage\n",
    "\n",
    "from pyspark.sql.functions import *\n",
    "group_source = df_source.groupBy('date', 'landing_page').agg(sum('access').alias('total_access')).orderBy(['date', 'total_access'], ascending=[True, False])\n",
    "group_source.show()"
   ]
  },
  {
   "cell_type": "code",
   "execution_count": 13,
   "id": "66d3c2f6-6ee3-4008-beaa-4663dee8e9a5",
   "metadata": {},
   "outputs": [
    {
     "name": "stderr",
     "output_type": "stream",
     "text": [
      "[Stage 27:>                                                         (0 + 1) / 1]\r"
     ]
    },
    {
     "name": "stdout",
     "output_type": "stream",
     "text": [
      "+-----------+------------+\n",
      "|      refer|total_access|\n",
      "+-----------+------------+\n",
      "|     google|  1265576301|\n",
      "|       NULL|   678390825|\n",
      "|   facebook|   294191864|\n",
      "|     kenh14|    46361874|\n",
      "|       soha|    31286779|\n",
      "|      cafef|    30089621|\n",
      "|news.google|    27616243|\n",
      "|     coccoc|     9445743|\n",
      "|taboolanews|     8075838|\n",
      "|    afamily|     7493689|\n",
      "+-----------+------------+\n",
      "only showing top 10 rows\n",
      "\n"
     ]
    },
    {
     "name": "stderr",
     "output_type": "stream",
     "text": [
      "                                                                                \r"
     ]
    }
   ],
   "source": [
    "#Top 10 traffic source có lượng truy cập cao nhất\n",
    "\n",
    "from pyspark.sql.functions import *\n",
    "group_source=df_source.groupBy('refer').agg(sum('access').alias('total_access')).orderBy('total_access',ascending=False)\n",
    "group_source.show(10)"
   ]
  },
  {
   "cell_type": "code",
   "execution_count": 14,
   "id": "c8cb33dc-b495-4822-a5e5-54772534f4a2",
   "metadata": {},
   "outputs": [
    {
     "name": "stdout",
     "output_type": "stream",
     "text": [
      "+-------------------+--------------------+------+-----+------+\n",
      "|               date|          parent_cat|  type| site| views|\n",
      "+-------------------+--------------------+------+-----+------+\n",
      "|2021-11-01 00:00:00|doanh-nghiep-gioi...|mobile|cafef|  2333|\n",
      "|2021-11-01 00:00:00|            tien-ich|mobile|cafef|     1|\n",
      "|2021-11-01 00:00:00|               upcom|    pc|cafef|    12|\n",
      "|2021-11-01 00:00:00|               other|mobile|cafef| 35950|\n",
      "|2021-11-01 00:00:00|        bat-dong-san|mobile|cafef|284065|\n",
      "|2021-11-01 00:00:00|MBS-cong-ty-co-ph...|mobile|cafef|     8|\n",
      "|2021-11-01 00:00:00|CTS-cong-ty-co-ph...|mobile|cafef|     1|\n",
      "|2021-11-01 00:00:00|                hose|    pc|cafef|    38|\n",
      "|2021-11-01 00:00:00|                home|    pc|cafef|342049|\n",
      "|2021-11-01 00:00:00|du-lieu-doanh-nghiep|mobile|cafef|     7|\n",
      "|2021-11-01 00:00:00|        doanh-nghiep|    pc|cafef| 48085|\n",
      "|2021-11-01 00:00:00|nghe-tai-chinh-ng...|    pc|cafef|     1|\n",
      "|2021-11-01 00:00:00|            thi-truo|    pc|cafef|     6|\n",
      "|2021-11-01 00:00:00|TVB-cong-ty-co-ph...|mobile|cafef|     3|\n",
      "|2021-11-01 00:00:00|   tai-chinh-quoc-te|    pc|cafef| 42622|\n",
      "|2021-11-01 00:00:00|        tim-viec-lam|mobile|cafef|   452|\n",
      "|2021-11-01 00:00:00|             du-lieu|mobile|cafef|433897|\n",
      "|2021-11-01 00:00:00|             tin-moi|mobile|cafef| 18749|\n",
      "|2021-11-01 00:00:00|         nhom-chu-de|mobile|cafef|    53|\n",
      "|2021-11-01 00:00:00|        bat-dong-san|    pc|cafef| 55115|\n",
      "+-------------------+--------------------+------+-----+------+\n",
      "only showing top 20 rows\n",
      "\n"
     ]
    }
   ],
   "source": [
    "# Import dữ liệu bảng website view by cate\n",
    "query = \"\"\"(SELECT \n",
    "            date, parent_cat, type, site, views\n",
    "            FROM  website_view_by_cat) \n",
    "            AS subquery \"\"\"\n",
    "df_cat= spark.read.jdbc(url=url, table=query, properties=properties)\n",
    "\n",
    "df_cat.show()\n"
   ]
  },
  {
   "cell_type": "code",
   "execution_count": 15,
   "id": "3f232b14-fe49-41dd-95d8-8760c3c40b25",
   "metadata": {},
   "outputs": [
    {
     "name": "stderr",
     "output_type": "stream",
     "text": [
      "[Stage 31:>                                                         (0 + 1) / 1]\r"
     ]
    },
    {
     "name": "stdout",
     "output_type": "stream",
     "text": [
      "+-------------------+--------------------+-----------+\n",
      "|               date|          parent_cat|total_views|\n",
      "+-------------------+--------------------+-----------+\n",
      "|2021-09-30 00:00:00|                home|     418769|\n",
      "|2021-09-30 00:00:00|                NULL|     284950|\n",
      "|2021-09-30 00:00:00|          hau-truong|     274695|\n",
      "|2021-09-30 00:00:00|            giai-tri|     242285|\n",
      "|2021-09-30 00:00:00|                song|     190116|\n",
      "|2021-09-30 00:00:00|           lifestyle|     160498|\n",
      "|2021-09-30 00:00:00|            giao-duc|     140498|\n",
      "|2021-09-30 00:00:00|cau-chuyen-kinh-d...|     138310|\n",
      "|2021-09-30 00:00:00|                 dep|     128197|\n",
      "|2021-09-30 00:00:00|            suc-khoe|     116223|\n",
      "|2021-09-30 00:00:00|                quiz|     112254|\n",
      "|2021-09-30 00:00:00|              tam-su|     112225|\n",
      "|2021-09-30 00:00:00|           tieu-dung|      97917|\n",
      "|2021-09-30 00:00:00|            the-gioi|      91797|\n",
      "|2021-09-30 00:00:00|                 yeu|      81218|\n",
      "|2021-09-30 00:00:00|              xa-hoi|      77966|\n",
      "|2021-09-30 00:00:00|             thoi-su|      77109|\n",
      "|2021-09-30 00:00:00|             an-ngon|      55479|\n",
      "|2021-09-30 00:00:00|            me-va-be|      37196|\n",
      "|2021-09-30 00:00:00|                 tag|      23993|\n",
      "+-------------------+--------------------+-----------+\n",
      "only showing top 20 rows\n",
      "\n"
     ]
    },
    {
     "name": "stderr",
     "output_type": "stream",
     "text": [
      "                                                                                \r"
     ]
    }
   ],
   "source": [
    "#Số lượng views theo parent_cat\n",
    "\n",
    "from pyspark.sql.functions import *\n",
    "group_cat=df_cat.groupBy('date','parent_cat').agg(sum('views').alias('total_views')).orderBy(['date','total_views'],ascending=[True,False])\n",
    "group_cat.show()\n",
    "                                                                                             "
   ]
  },
  {
   "cell_type": "code",
   "execution_count": 16,
   "id": "7bdc9cbd-5725-40b2-b411-3aaa6f015c89",
   "metadata": {
    "scrolled": true
   },
   "outputs": [
    {
     "name": "stderr",
     "output_type": "stream",
     "text": [
      "[Stage 34:>                                                         (0 + 1) / 1]\r"
     ]
    },
    {
     "name": "stdout",
     "output_type": "stream",
     "text": [
      "+-------------------+------+------+----+-----------------+-----+--------+\n",
      "|               date|  type| refer|site|           newsid|views|new_view|\n",
      "+-------------------+------+------+----+-----------------+-----+--------+\n",
      "|2024-07-23 00:00:00|mobile|  NULL|genk|20240722115150654|   23|    NULL|\n",
      "|2024-07-23 00:00:00|mobile|  genk|genk|20240513095410082|    4|       4|\n",
      "|2024-07-23 00:00:00|mobile|  genk|genk|20240628080238254|    6|       1|\n",
      "|2024-07-23 00:00:00|mobile|google|genk| 2011022806029243|    9|       3|\n",
      "|2024-07-23 00:00:00|mobile|google|genk|20141020111347011|    3|       3|\n",
      "|2024-07-23 00:00:00|mobile|google|genk| 2021042616032764|    6|       5|\n",
      "|2024-07-23 00:00:00|mobile|google|genk| 2024010811061134|    7|    NULL|\n",
      "|2024-07-23 00:00:00|mobile|google|genk|20240326100800122|    4|       2|\n",
      "|2024-07-23 00:00:00|mobile|google|genk|20240629101901836|  154|      21|\n",
      "|2024-07-23 00:00:00|mobile|google|genk|20240709214621586|    9|       2|\n",
      "|2024-07-23 00:00:00|    pc|  NULL|genk|20240722182344516|    9|    NULL|\n",
      "|2024-07-23 00:00:00|    pc|  genk|genk|20240509095902233|    4|    NULL|\n",
      "|2024-07-23 00:00:00|    pc|  genk|genk|20240723105624543|  250|      53|\n",
      "|2024-07-23 00:00:00|mobile|  NULL|genk|20110401013911795|    7|    NULL|\n",
      "|2024-07-23 00:00:00|mobile|  NULL|genk|20220920123922977|    3|    NULL|\n",
      "|2024-07-23 00:00:00|mobile|  NULL|genk|20240720120527457|   11|    NULL|\n",
      "|2024-07-23 00:00:00|mobile|  NULL|genk|20240721180728285|    4|    NULL|\n",
      "|2024-07-23 00:00:00|mobile|  genk|genk|20240408153132236|    3|       3|\n",
      "|2024-07-23 00:00:00|mobile|  genk|genk|20240607143206901|   19|       6|\n",
      "|2024-07-23 00:00:00|mobile|  genk|genk|20240718141539991|   46|      24|\n",
      "+-------------------+------+------+----+-----------------+-----+--------+\n",
      "only showing top 20 rows\n",
      "\n"
     ]
    },
    {
     "name": "stderr",
     "output_type": "stream",
     "text": [
      "                                                                                \r"
     ]
    }
   ],
   "source": [
    "# Import dữ liệu bảng website view by source\n",
    "query = \"\"\"(SELECT \n",
    "           date, type, refer, site, newsid, views, new_view\n",
    "            FROM  website_view_by_source) \n",
    "            AS subquery \"\"\"\n",
    "df_view_source= spark.read.jdbc(url=url, table=query, properties=properties)\n",
    "\n",
    "df_view_source.show()\n"
   ]
  },
  {
   "cell_type": "code",
   "execution_count": 17,
   "id": "8f0e1230-74fd-4344-ad89-bcc31b72a10a",
   "metadata": {},
   "outputs": [
    {
     "name": "stderr",
     "output_type": "stream",
     "text": [
      "[Stage 35:>                                                         (0 + 1) / 1]\r"
     ]
    },
    {
     "name": "stdout",
     "output_type": "stream",
     "text": [
      "+--------+----------------+\n",
      "|   refer|total_new_access|\n",
      "+--------+----------------+\n",
      "|  google|        23422403|\n",
      "|  kenh14|        15172361|\n",
      "|facebook|         8663988|\n",
      "|    soha|         4251452|\n",
      "|   cafef|         3102840|\n",
      "| afamily|         1685151|\n",
      "| cafebiz|          676174|\n",
      "|    genk|          552192|\n",
      "|   gamek|          409922|\n",
      "|    news|          206397|\n",
      "+--------+----------------+\n",
      "only showing top 10 rows\n",
      "\n"
     ]
    },
    {
     "name": "stderr",
     "output_type": "stream",
     "text": [
      "                                                                                \r"
     ]
    }
   ],
   "source": [
    "#Top 10 traffice source thu hút nhiều user mới nhất\n",
    "\n",
    "from pyspark.sql.functions import *\n",
    "group_view_source=df_view_source.groupBy('refer').agg(sum('new_view').alias('total_new_access')).orderBy('total_new_access',ascending=False)\n",
    "group_view_source.show(10)"
   ]
  },
  {
   "cell_type": "code",
   "execution_count": 20,
   "id": "02a5c654-3c77-484c-9b14-e3599991c056",
   "metadata": {},
   "outputs": [],
   "source": [
    "#Merge 2 bảng info và view by source\n",
    "\n",
    "from pyspark.sql.functions import *\n",
    "\n",
    "merged_info_view_source = df_info.join(df_view_source, (df_info.newsid == df_view_source.newsid) & (df_info.sourceNews == df_view_source.site),how='right')\n"
   ]
  },
  {
   "cell_type": "code",
   "execution_count": 27,
   "id": "93f808db-23a0-4787-b19c-87959e36bde8",
   "metadata": {},
   "outputs": [
    {
     "name": "stderr",
     "output_type": "stream",
     "text": [
      "[Stage 83:==================================================>       (7 + 1) / 8]\r"
     ]
    },
    {
     "name": "stdout",
     "output_type": "stream",
     "text": [
      "+------+------------+-----------+\n",
      "| refer|publish_hour|total_views|\n",
      "+------+------------+-----------+\n",
      "|google|           0|    3198524|\n",
      "|google|           1|     280188|\n",
      "|google|           2|      47917|\n",
      "|google|           3|      68246|\n",
      "|google|           4|      67332|\n",
      "|google|           5|     719724|\n",
      "|google|           6|    3990988|\n",
      "|google|           7|    6986715|\n",
      "|google|           8|    4778501|\n",
      "|google|           9|    5920420|\n",
      "|google|          10|    7072031|\n",
      "|google|          11|    5743036|\n",
      "|google|          12|    2960246|\n",
      "|google|          13|    4551966|\n",
      "|google|          14|    7289701|\n",
      "|google|          15|    6343577|\n",
      "|google|          16|    4886612|\n",
      "|google|          17|    3607048|\n",
      "|google|          18|    2897955|\n",
      "|google|          19|    5774926|\n",
      "+------+------------+-----------+\n",
      "only showing top 20 rows\n",
      "\n"
     ]
    },
    {
     "name": "stderr",
     "output_type": "stream",
     "text": [
      "                                                                                \r"
     ]
    }
   ],
   "source": [
    "#Số lượng view theo giờ publish của các bài viết từ FB,GG\n",
    "\n",
    "from pyspark.sql.functions import *\n",
    "filter_merged = merged_info_view_source.filter((col('refer').isin('google','facebool')) & (col('url').isNotNull()))\n",
    "group_filter=filter_merged.groupBy('refer','publish_hour').agg(sum('views').alias('total_views')).orderBy('publish_hour',ascending=True)\n",
    "group_filter.show()"
   ]
  },
  {
   "cell_type": "code",
   "execution_count": 30,
   "id": "ad96dfe1-83a8-495b-9300-04c3c3a3b26f",
   "metadata": {},
   "outputs": [
    {
     "name": "stderr",
     "output_type": "stream",
     "text": [
      "[Stage 110:======================================>                  (6 + 3) / 9]\r"
     ]
    },
    {
     "name": "stdout",
     "output_type": "stream",
     "text": [
      "+--------------------+-------------------+--------------------+-----------+\n",
      "|               title|       publish_date|                 url|total_views|\n",
      "+--------------------+-------------------+--------------------+-----------+\n",
      "|Truy tìm Trần Khá...|2024-07-31 00:00:00|https://cafef.vn/...|    1136044|\n",
      "|Công bố 12 số điệ...|2024-07-29 00:00:00|https://cafef.vn/...|     747857|\n",
      "|Một nhân vật tron...|2024-08-08 00:00:00|https://cafef.vn/...|     575903|\n",
      "|Nam sinh học hết ...|2024-07-22 00:00:00|https://cafef.vn/...|     534382|\n",
      "|Xuất hiện quả mít...|2024-08-07 00:00:00|https://kenh14.vn...|     516419|\n",
      "|Ông Trịnh Văn Quy...|2024-07-23 00:00:00|https://cafef.vn/...|     506687|\n",
      "|1 mình chăm mẹ, k...|2024-08-01 00:00:00|https://kenh14.vn...|     442109|\n",
      "|Bắt Giám đốc Nguy...|2024-08-03 00:00:00|http://soha.vn/ba...|     403459|\n",
      "|Chê tiền đền bù í...|2024-08-04 00:00:00|https://kenh14.vn...|     387577|\n",
      "|Tổng bí thư, Chủ ...|2024-08-18 00:00:00|https://cafef.vn/...|     378718|\n",
      "+--------------------+-------------------+--------------------+-----------+\n",
      "only showing top 10 rows\n",
      "\n"
     ]
    },
    {
     "name": "stderr",
     "output_type": "stream",
     "text": [
      "                                                                                \r"
     ]
    }
   ],
   "source": [
    "#Top 10 bài viết thu hút nhiều user nhất từ Google\n",
    "\n",
    "from pyspark.sql.functions import *\n",
    "\n",
    "filter_merged = merged_info_view_source.filter(col('refer').isin('google') & col('url').isNotNull())\n",
    "group_merged=filter_merged.groupBy('title','publish_date','url').agg(sum('views').alias('total_views')).orderBy('total_views',ascending=False)\n",
    "group_merged.show(10)"
   ]
  }
 ],
 "metadata": {
  "kernelspec": {
   "display_name": "Python 3.8 (Conda)",
   "language": "python",
   "name": "traht_p3.8_1723259705"
  },
  "language_info": {
   "codemirror_mode": {
    "name": "ipython",
    "version": 3
   },
   "file_extension": ".py",
   "mimetype": "text/x-python",
   "name": "python",
   "nbconvert_exporter": "python",
   "pygments_lexer": "ipython3",
   "version": "3.8.19"
  }
 },
 "nbformat": 4,
 "nbformat_minor": 5
}
